{
 "cells": [
  {
   "cell_type": "code",
   "execution_count": 1,
   "metadata": {
    "scrolled": true
   },
   "outputs": [
    {
     "name": "stdout",
     "output_type": "stream",
     "text": [
      "Hello World!!! - my first program\n"
     ]
    }
   ],
   "source": [
    "print(\"Hello World!!! - my first program\")"
   ]
  },
  {
   "cell_type": "code",
   "execution_count": 2,
   "metadata": {},
   "outputs": [],
   "source": [
    "#Example variable\n",
    "ex_var123 = 5"
   ]
  },
  {
   "cell_type": "code",
   "execution_count": 3,
   "metadata": {},
   "outputs": [],
   "source": [
    "#Variable reassignment\n",
    "ex_var123 = 7"
   ]
  },
  {
   "cell_type": "code",
   "execution_count": 4,
   "metadata": {},
   "outputs": [],
   "source": [
    "#Floating point examples\n",
    "\n",
    "float_1 = 1.2345\n",
    "float_2 = -1/25\n",
    "float_3 = 0.0\n",
    "float_4 = 13.0\n",
    "float_5 = -0.5"
   ]
  },
  {
   "cell_type": "code",
   "execution_count": 5,
   "metadata": {},
   "outputs": [],
   "source": [
    "#Integer examples\n",
    "\n",
    "int_1 = 7\n",
    "int_2 = -52\n",
    "int_3 = 0\n",
    "int_4 = 900\n",
    "int_ = -749"
   ]
  },
  {
   "cell_type": "code",
   "execution_count": 6,
   "metadata": {},
   "outputs": [],
   "source": [
    "#Boolean examples\n",
    "\n",
    "bool_1 = True\n",
    "bool_2 = False"
   ]
  },
  {
   "cell_type": "code",
   "execution_count": 7,
   "metadata": {},
   "outputs": [],
   "source": [
    "#Comments\n",
    "\n",
    "#They are important in programming since they can be used to make helpful notes within code\n",
    "# '#' character is used for comments"
   ]
  },
  {
   "cell_type": "code",
   "execution_count": 8,
   "metadata": {},
   "outputs": [
    {
     "name": "stdout",
     "output_type": "stream",
     "text": [
      "the addition is:  9\n",
      "the subtraction is:  3\n",
      "the multiplication is:  24\n",
      "the division is:  3.5\n"
     ]
    }
   ],
   "source": [
    "#Basic Math Operators\n",
    "\n",
    "addition = 4 + 5            # 9\n",
    "subtraction = 5 - 2         # 3\n",
    "multiplication = 3 * 8      # 24\n",
    "division  = 7 / 2           # 3.5\n",
    "\n",
    "print(\"the addition is: \", addition)\n",
    "print(\"the subtraction is: \",subtraction)\n",
    "print(\"the multiplication is: \",multiplication)\n",
    "print(\"the division is: \",division)"
   ]
  },
  {
   "cell_type": "code",
   "execution_count": 9,
   "metadata": {},
   "outputs": [
    {
     "name": "stdout",
     "output_type": "stream",
     "text": [
      "the exponentiation is:  256\n",
      "the floor_division is:  4\n",
      "the modulo is:  1\n"
     ]
    }
   ],
   "source": [
    "#Exponentiation, Floor Division and Modulo\n",
    "\n",
    "exponentiation = 4 ** 4    # 256\n",
    "floor_division = 35 // 8   # 4\n",
    "modulo = 29 % 4            # 1\n",
    "\n",
    "print(\"the exponentiation is: \", exponentiation)\n",
    "print(\"the floor_division is: \",floor_division)\n",
    "print(\"the modulo is: \",modulo)"
   ]
  },
  {
   "cell_type": "code",
   "execution_count": 10,
   "metadata": {},
   "outputs": [
    {
     "data": {
      "text/plain": [
       "12"
      ]
     },
     "execution_count": 10,
     "metadata": {},
     "output_type": "execute_result"
    }
   ],
   "source": [
    "#Assignment operator\n",
    "#Operators used for reassignment\n",
    "\n",
    "add_assign = 5\n",
    "add_assign += 7\n",
    "\n",
    "add_assign"
   ]
  },
  {
   "cell_type": "code",
   "execution_count": 11,
   "metadata": {},
   "outputs": [
    {
     "data": {
      "text/plain": [
       "5"
      ]
     },
     "execution_count": 11,
     "metadata": {},
     "output_type": "execute_result"
    }
   ],
   "source": [
    "sub = 10\n",
    "sub -= 5\n",
    "\n",
    "sub"
   ]
  },
  {
   "cell_type": "code",
   "execution_count": 12,
   "metadata": {},
   "outputs": [
    {
     "data": {
      "text/plain": [
       "50"
      ]
     },
     "execution_count": 12,
     "metadata": {},
     "output_type": "execute_result"
    }
   ],
   "source": [
    "mult = 10\n",
    "mult *= 5\n",
    "\n",
    "mult"
   ]
  },
  {
   "cell_type": "code",
   "execution_count": 13,
   "metadata": {},
   "outputs": [
    {
     "data": {
      "text/plain": [
       "6.666666666666667"
      ]
     },
     "execution_count": 13,
     "metadata": {},
     "output_type": "execute_result"
    }
   ],
   "source": [
    "div = 40\n",
    "div /= 6\n",
    "\n",
    "div"
   ]
  },
  {
   "cell_type": "code",
   "execution_count": 14,
   "metadata": {},
   "outputs": [
    {
     "data": {
      "text/plain": [
       "343"
      ]
     },
     "execution_count": 14,
     "metadata": {},
     "output_type": "execute_result"
    }
   ],
   "source": [
    "exp = 7\n",
    "exp**= 3\n",
    "\n",
    "exp"
   ]
  },
  {
   "cell_type": "code",
   "execution_count": 15,
   "metadata": {},
   "outputs": [
    {
     "data": {
      "text/plain": [
       "13"
      ]
     },
     "execution_count": 15,
     "metadata": {},
     "output_type": "execute_result"
    }
   ],
   "source": [
    "floor = 80\n",
    "floor //= 6\n",
    "\n",
    "floor"
   ]
  },
  {
   "cell_type": "code",
   "execution_count": 16,
   "metadata": {},
   "outputs": [
    {
     "data": {
      "text/plain": [
       "6"
      ]
     },
     "execution_count": 16,
     "metadata": {},
     "output_type": "execute_result"
    }
   ],
   "source": [
    "modu = 70\n",
    "modu %= 8\n",
    "\n",
    "modu"
   ]
  },
  {
   "cell_type": "code",
   "execution_count": 17,
   "metadata": {},
   "outputs": [
    {
     "data": {
      "text/plain": [
       "7"
      ]
     },
     "execution_count": 17,
     "metadata": {},
     "output_type": "execute_result"
    }
   ],
   "source": [
    "#Order of precedence\n",
    "\n",
    "expr = (9-7) * 2 ** 3 +10 % 6 // -1 * 2 -1\n",
    "# first 9-7 gets executed.. so it becomes 2 * 2 ** 3 + 10 % 6 // -1 * 2 - 1\n",
    "# then exponentiation... 2 * 8 + 10 % 6 // -1 * 2 - 1\n",
    "# then mul, div, floor_mul, modulo.. so it becomes 16 + 4 // -1 * 2 - 1 ----> 16 + -4 * 2 - 1 ----> 16 + -8 - 1 ---> 7\n",
    "expr"
   ]
  },
  {
   "cell_type": "code",
   "execution_count": 18,
   "metadata": {},
   "outputs": [
    {
     "name": "stdout",
     "output_type": "stream",
     "text": [
      "24601\n",
      "True\n",
      "3.14159\n",
      "2019\n",
      "27\n",
      "4.029999999999999\n",
      "<class 'float'>\n",
      "4.03\n",
      "<class 'float'>\n",
      "4.038889\n"
     ]
    }
   ],
   "source": [
    "#Usage of print\n",
    "\n",
    "example_1 = 3.14159 \n",
    "example_2 = 24601\n",
    "example_3 = True\n",
    "\n",
    "print(example_2)\n",
    "print(example_3)\n",
    "print(example_1)\n",
    "\n",
    "\n",
    "print(2019)\n",
    "\n",
    "print((4+5)*3)\n",
    "\n",
    "print(1.23+2.80)  #here output resulted in a very long decimal\n",
    "print(type(1.23+2.80))\n",
    "\n",
    "Ex2 = (123 + 280) / 100\n",
    "print(Ex2)\n",
    "print(type(Ex2))\n",
    "\n",
    "#Round expression\n",
    "ex3 = 1.2376543468+2.8012345678\n",
    "print(round(ex3,6))\n"
   ]
  },
  {
   "cell_type": "code",
   "execution_count": 19,
   "metadata": {},
   "outputs": [
    {
     "name": "stdout",
     "output_type": "stream",
     "text": [
      "6309.0\n"
     ]
    }
   ],
   "source": [
    "#Grocery Store Purchase\n",
    "\n",
    "Penne = 16.68 * 100\n",
    "\n",
    "Arrabiata_Pasta_Sauce = 6.98 * 100\n",
    "\n",
    "Organic_Garlic_Cloves = 16.78 * 100\n",
    "\n",
    "Italian_Seasoning = 15.26 * 100\n",
    "\n",
    "Artisan_Baguettes = 3.00 * 100\n",
    "\n",
    "Meatballs = 4.39 * 100\n",
    "\n",
    "subtotal = Penne + Arrabiata_Pasta_Sauce + Organic_Garlic_Cloves + Italian_Seasoning + Artisan_Baguettes + Meatballs\n",
    "\n",
    "print(subtotal)"
   ]
  },
  {
   "cell_type": "code",
   "execution_count": 20,
   "metadata": {},
   "outputs": [
    {
     "name": "stdout",
     "output_type": "stream",
     "text": [
      "This is a string\n",
      "This is also a string\n",
      "1981\n",
      "LiVE LoNg AnD pRosPeR\n",
      "!@#$%^&*()_+=-;,./<>?][}{\\|\n",
      "\n",
      "That's my friend\n",
      " hiiiii \n",
      " byeeeee\n"
     ]
    }
   ],
   "source": [
    "#String\n",
    "\n",
    "ex_1 = 'This is a string'\n",
    "ex_2 = \"This is also a string\"\n",
    "ex_3 = \"1981\"\n",
    "ex_4 = \"LiVE LoNg AnD pRosPeR\"\n",
    "ex_5 = \"!@#$%^&*()_+=-;,./<>?][}{\\|\"\n",
    "ex_6 = \"\"\n",
    "ex_7 = \"That's my friend\\n hiiiii \\n byeeeee\"\n",
    "\n",
    "print(ex_1)\n",
    "print(ex_2)\n",
    "print(ex_3)\n",
    "print(ex_4)\n",
    "print(ex_5)\n",
    "print(ex_6)\n",
    "print(ex_7)"
   ]
  },
  {
   "cell_type": "code",
   "execution_count": 21,
   "metadata": {},
   "outputs": [
    {
     "name": "stdout",
     "output_type": "stream",
     "text": [
      "a\n",
      "l\n"
     ]
    }
   ],
   "source": [
    "#accessing string by index\n",
    "\n",
    "ex_8 = \"orange\"\n",
    "print(ex_8[2])\n",
    "\n",
    "print(\"apple\"[3])"
   ]
  },
  {
   "cell_type": "code",
   "execution_count": 22,
   "metadata": {
    "scrolled": true
   },
   "outputs": [
    {
     "name": "stdout",
     "output_type": "stream",
     "text": [
      "apr\n",
      "ric\n",
      "cots\n"
     ]
    }
   ],
   "source": [
    "#String Slicing\n",
    "\n",
    "ex_10 = \"apricots\"\n",
    "\n",
    "print(ex_10[:3]) #one less than 3 is 2 -> so it stops at r where the index of r is 2\n",
    "print(ex_10[2:5])\n",
    "print(ex_10[4:])"
   ]
  },
  {
   "cell_type": "code",
   "execution_count": 23,
   "metadata": {},
   "outputs": [
    {
     "data": {
      "text/plain": [
       "'\\n\\nprint(\"a\")\\n\\nprint(\"b\")\\n\\n'"
      ]
     },
     "execution_count": 23,
     "metadata": {},
     "output_type": "execute_result"
    }
   ],
   "source": [
    "'''\n",
    "\n",
    "print(\"a\")\n",
    "\n",
    "print(\"b\")\n",
    "\n",
    "'''"
   ]
  },
  {
   "cell_type": "code",
   "execution_count": 24,
   "metadata": {},
   "outputs": [
    {
     "name": "stdout",
     "output_type": "stream",
     "text": [
      "Pecan Pie\n",
      "R2-D2\n",
      "D\n",
      "2-D\n"
     ]
    }
   ],
   "source": [
    "#String concatenation\n",
    "\n",
    "print(\"Pecan\" + \" \" + \"Pie\")\n",
    "\n",
    "concatenated = \"R2\" + \"-\" + \"D2\"\n",
    "print(concatenated)\n",
    "print(concatenated[3])\n",
    "print(concatenated[1:4])"
   ]
  },
  {
   "cell_type": "code",
   "execution_count": 25,
   "metadata": {},
   "outputs": [
    {
     "name": "stdout",
     "output_type": "stream",
     "text": [
      "!\n",
      "do\n",
      "it!\n",
      "Just\n",
      "*************\n",
      "Don't\n",
      "Don't do it!\n",
      "-------\n",
      "Don't do it!\n",
      "^^^^^^^^^^^^^^\n",
      "Don't do it!\n"
     ]
    }
   ],
   "source": [
    "#String Exercise\n",
    "\n",
    "str1 = \"Just do it!\"\n",
    "print(str1[10])\n",
    "print(str1[5:7])\n",
    "print(str1[8:])\n",
    "print(str1[:4])\n",
    "\n",
    "print(\"*************\")\n",
    "\n",
    "str2 = \"Don't\"\n",
    "print(str2)\n",
    "print(str2 + \" \" +str1[5:])\n",
    "\n",
    "print(\"-------\")\n",
    "\n",
    "print(str1.replace(\"Just\", \"Don't\"))\n",
    "\n",
    "print(\"^^^^^^^^^^^^^^\")\n",
    "\n",
    "to_slice = \"Just do it!\"\n",
    "print(\"Don't \" + to_slice[5:])  # prints \"Don't do it!\""
   ]
  },
  {
   "cell_type": "code",
   "execution_count": 26,
   "metadata": {},
   "outputs": [
    {
     "name": "stdout",
     "output_type": "stream",
     "text": [
      "<class 'float'>\n",
      "<class 'int'>\n",
      "<class 'bool'>\n"
     ]
    }
   ],
   "source": [
    "#Type function\n",
    "\n",
    "print(type(example_1))\n",
    "print(type(example_2))\n",
    "print(type(example_3))"
   ]
  },
  {
   "cell_type": "code",
   "execution_count": 27,
   "metadata": {},
   "outputs": [
    {
     "name": "stdout",
     "output_type": "stream",
     "text": [
      "True\n",
      "5757\n",
      "<class 'str'>\n",
      "<class 'str'>\n",
      "<class 'str'>\n"
     ]
    }
   ],
   "source": [
    "#String function\n",
    "\n",
    "exmpl1 = str(True)\n",
    "exmpl2 = str(57)\n",
    "exmpl3 = str(3.14)\n",
    "\n",
    "print(exmpl1)\n",
    "print(exmpl2 + exmpl2)\n",
    "\n",
    "print(type(exmpl1))\n",
    "print(type(exmpl2))\n",
    "print(type(exmpl3))"
   ]
  },
  {
   "cell_type": "code",
   "execution_count": 28,
   "metadata": {},
   "outputs": [
    {
     "name": "stdout",
     "output_type": "stream",
     "text": [
      "This\tis\ta\tlot\tof\tspace\n",
      "line one\n",
      "line two\n",
      "\"When I said 'immediately,' I meant today!\" said King Saul.\n",
      "\"Do or do not. There is no try.\"\n",
      "All escape sequences contain a \\.\n"
     ]
    }
   ],
   "source": [
    "#Escape sequences\n",
    "\n",
    "print(\"This\\tis\\ta\\tlot\\tof\\tspace\")  #\\t -> represents tab\n",
    "print(\"line one\\nline two\")   #\\n -> newline\n",
    "print('\"When I said \\'immediately,\\' I meant today!\" said King Saul.')   # \\' -> this will print single quote inside quotes\n",
    "print(\"\\\"Do or do not. There is no try.\\\"\")\n",
    "print(\"All escape sequences contain a \\\\.\")"
   ]
  },
  {
   "cell_type": "code",
   "execution_count": 29,
   "metadata": {},
   "outputs": [
    {
     "name": "stdout",
     "output_type": "stream",
     "text": [
      "*******\n",
      " ***** \n",
      "  ***  \n",
      "   *   \n"
     ]
    }
   ],
   "source": [
    "#Example\n",
    "#programming - create an asterisk challenge\n",
    "\n",
    "print(\"*******\\n ***** \\n  ***  \\n   *   \")"
   ]
  },
  {
   "cell_type": "code",
   "execution_count": 30,
   "metadata": {},
   "outputs": [
    {
     "name": "stdout",
     "output_type": "stream",
     "text": [
      "Please enter your name.Sai\n",
      "Your name is Sai.\n",
      "<class 'str'>\n"
     ]
    }
   ],
   "source": [
    "#input function -> allows to get an input from the user\n",
    "name = input(\"Please enter your name.\")\n",
    "print(\"Your name is \" + name + \".\")\n",
    "print(type(name))"
   ]
  },
  {
   "cell_type": "code",
   "execution_count": 31,
   "metadata": {},
   "outputs": [
    {
     "name": "stdout",
     "output_type": "stream",
     "text": [
      "What is your favourite number?56\n",
      "Your favourite number is 56.\n",
      "<class 'str'>\n"
     ]
    }
   ],
   "source": [
    "#input function\n",
    "\n",
    "fav_num = input(\"What is your favourite number?\")\n",
    "print(\"Your favourite number is \" + fav_num + \".\")\n",
    "print(type(fav_num))       #Even though we are entering a number, fav_num is a type string"
   ]
  },
  {
   "cell_type": "code",
   "execution_count": 32,
   "metadata": {},
   "outputs": [
    {
     "name": "stdout",
     "output_type": "stream",
     "text": [
      "Please enter your favourite shirt color.White\n",
      "Your favourite color is White.\n",
      "Hey Sai, your favourite number is 56 and your favourite color of your tshirt is White.\n"
     ]
    }
   ],
   "source": [
    "#input function\n",
    "\n",
    "col = input(\"Please enter your favourite shirt color.\")\n",
    "print(\"Your favourite color is \" + col + \".\")\n",
    "print(\"Hey \" + name +\", your favourite number is \" + fav_num + \" and your favourite color of your tshirt is \" + col + \".\")\n"
   ]
  },
  {
   "cell_type": "code",
   "execution_count": 33,
   "metadata": {},
   "outputs": [
    {
     "name": "stdout",
     "output_type": "stream",
     "text": [
      "Please enter an integer67\n",
      "67\n",
      "<class 'int'>\n"
     ]
    }
   ],
   "source": [
    "#int() and float()\n",
    "\n",
    "#int() function allows you to convert a string into an integer\n",
    "\n",
    "user_int = int(input(\"Please enter an integer\"))\n",
    "print(user_int)\n",
    "print(type(user_int))"
   ]
  },
  {
   "cell_type": "code",
   "execution_count": 34,
   "metadata": {},
   "outputs": [
    {
     "name": "stdout",
     "output_type": "stream",
     "text": [
      "Please enter a float87.8\n",
      "87.8\n",
      "<class 'float'>\n",
      "96.34\n"
     ]
    }
   ],
   "source": [
    "#float() function allows you to convert a string into a float\n",
    "\n",
    "user_float = float(input(\"Please enter a float\"))\n",
    "print(user_float)\n",
    "print(type(user_float))\n",
    "print(user_float + 8.54)"
   ]
  },
  {
   "cell_type": "code",
   "execution_count": 35,
   "metadata": {},
   "outputs": [
    {
     "name": "stdout",
     "output_type": "stream",
     "text": [
      "Please enter an integer.23456\n",
      "23466\n"
     ]
    }
   ],
   "source": [
    "#Example\n",
    "#Get an integer from user and add it to 10\n",
    "use_int = int(input(\"Please enter an integer.\"))\n",
    " \n",
    "print(use_int + 10)"
   ]
  },
  {
   "cell_type": "markdown",
   "metadata": {},
   "source": [
    "#### Functions - when being able to reuse code on different variables and values without having to rewrite it would save you significant amounts of time and allow you to use much less . The main points of functions is to give programmers the ability to avoid having to duplicate code."
   ]
  },
  {
   "cell_type": "code",
   "execution_count": 36,
   "metadata": {},
   "outputs": [],
   "source": [
    "#Defining a function\n",
    "def function_name():\n",
    "    print(2+2)"
   ]
  },
  {
   "cell_type": "code",
   "execution_count": 37,
   "metadata": {},
   "outputs": [
    {
     "name": "stdout",
     "output_type": "stream",
     "text": [
      "4\n"
     ]
    }
   ],
   "source": [
    "#calling a function\n",
    "function_name()"
   ]
  },
  {
   "cell_type": "code",
   "execution_count": 38,
   "metadata": {},
   "outputs": [],
   "source": [
    "#Defining a function with parameter\n",
    "\n",
    "def function_name1(parameter):\n",
    "    print(parameter+5)"
   ]
  },
  {
   "cell_type": "code",
   "execution_count": 39,
   "metadata": {},
   "outputs": [
    {
     "name": "stdout",
     "output_type": "stream",
     "text": [
      "69\n"
     ]
    }
   ],
   "source": [
    "#calling a function\n",
    "function_name1(64)"
   ]
  },
  {
   "cell_type": "code",
   "execution_count": 40,
   "metadata": {},
   "outputs": [],
   "source": [
    "#Defining a function with multiple parameters\n",
    "first_str = \"The number \"\n",
    "def function_name2(p1,p2,p3):\n",
    "    print(p1 + str(p2) + p3)"
   ]
  },
  {
   "cell_type": "code",
   "execution_count": 41,
   "metadata": {},
   "outputs": [
    {
     "name": "stdout",
     "output_type": "stream",
     "text": [
      "The number 5 is an integer\n"
     ]
    }
   ],
   "source": [
    "function_name2(first_str,5,\" is an integer\")  #when you are calling a function, you pass argument(s) to a function which has a parameter"
   ]
  },
  {
   "cell_type": "code",
   "execution_count": 42,
   "metadata": {},
   "outputs": [],
   "source": [
    "#Function with default parameters\n",
    "\n",
    "def default_function(num1=7, num2=8):\n",
    "    print(num1 * num2)"
   ]
  },
  {
   "cell_type": "code",
   "execution_count": 43,
   "metadata": {},
   "outputs": [
    {
     "name": "stdout",
     "output_type": "stream",
     "text": [
      "56\n"
     ]
    }
   ],
   "source": [
    "default_function()"
   ]
  },
  {
   "cell_type": "code",
   "execution_count": 44,
   "metadata": {
    "scrolled": true
   },
   "outputs": [
    {
     "name": "stdout",
     "output_type": "stream",
     "text": [
      "16\n"
     ]
    }
   ],
   "source": [
    "default_function(2)"
   ]
  },
  {
   "cell_type": "code",
   "execution_count": 45,
   "metadata": {},
   "outputs": [
    {
     "name": "stdout",
     "output_type": "stream",
     "text": [
      "20\n"
     ]
    }
   ],
   "source": [
    "default_function(4,5)"
   ]
  },
  {
   "cell_type": "code",
   "execution_count": 46,
   "metadata": {},
   "outputs": [],
   "source": [
    "#Using return in a function\n",
    "\n",
    "def default_function3(num1,num2):\n",
    "    return num1/num2\n"
   ]
  },
  {
   "cell_type": "code",
   "execution_count": 47,
   "metadata": {},
   "outputs": [
    {
     "name": "stdout",
     "output_type": "stream",
     "text": [
      "sai\n",
      "2.3333333333333335\n",
      "************\n"
     ]
    },
    {
     "data": {
      "text/plain": [
       "3.14159"
      ]
     },
     "execution_count": 47,
     "metadata": {},
     "output_type": "execute_result"
    }
   ],
   "source": [
    "product = default_function3(7,3)\n",
    "product\n",
    "\n",
    "print(\"sai\")\n",
    "print(product)\n",
    "print(\"************\")\n",
    "product\n",
    "example_1"
   ]
  },
  {
   "cell_type": "code",
   "execution_count": 48,
   "metadata": {},
   "outputs": [],
   "source": [
    "def default_function4(num1,num2):\n",
    "    return num1*num2"
   ]
  },
  {
   "cell_type": "code",
   "execution_count": 49,
   "metadata": {},
   "outputs": [
    {
     "name": "stdout",
     "output_type": "stream",
     "text": [
      "116\n"
     ]
    }
   ],
   "source": [
    "print(default_function4(8,9) + 44)"
   ]
  },
  {
   "cell_type": "code",
   "execution_count": 50,
   "metadata": {},
   "outputs": [
    {
     "name": "stdout",
     "output_type": "stream",
     "text": [
      "Please enter an integer value for degrees celsius. 36\n"
     ]
    }
   ],
   "source": [
    "#Example\n",
    "\n",
    "#Celsius to fahrenheit \n",
    "\n",
    "celsius = int(input(\"Please enter an integer value for degrees celsius. \"))"
   ]
  },
  {
   "cell_type": "code",
   "execution_count": 51,
   "metadata": {},
   "outputs": [],
   "source": [
    "def fahrenheit(cel):\n",
    "    # To avoid the approximation error that would occur if the float 1.8 was used in the calculation, 1.8 * 10 is used\n",
    "    # instead, resulting in the integer 18.  To balance this out, 32 is also multiplied by 10 to get 320.  After the\n",
    "    # calculations in the parentheses are finished, the result is divided by 10, which gives the correct Fahrenheit\n",
    "    # temperature.\n",
    "    return (18 * cel + 320) / 10"
   ]
  },
  {
   "cell_type": "code",
   "execution_count": 52,
   "metadata": {},
   "outputs": [
    {
     "name": "stdout",
     "output_type": "stream",
     "text": [
      "The Fahrenheit equivalent of 36 degrees Celsius is 96.8.\n"
     ]
    }
   ],
   "source": [
    "print(\"The Fahrenheit equivalent of \" + str(celsius) + \" degrees Celsius is \" + str(fahrenheit(celsius)) + \".\")"
   ]
  },
  {
   "cell_type": "code",
   "execution_count": 53,
   "metadata": {},
   "outputs": [
    {
     "name": "stdout",
     "output_type": "stream",
     "text": [
      "Please enter an integer value for degrees celsius. 98\n"
     ]
    }
   ],
   "source": [
    "celsius = int(input(\"Please enter an integer value for degrees celsius. \"))\n",
    "def fahrenheit(cel):\n",
    "    # The second argument of round() is 1 since we only want the Fahrenheit temperature to be displayed with 1 number\n",
    "    # after the decimal point\n",
    "    return round((1.8 * cel + 32), 1)"
   ]
  },
  {
   "cell_type": "code",
   "execution_count": 54,
   "metadata": {},
   "outputs": [
    {
     "name": "stdout",
     "output_type": "stream",
     "text": [
      "The Fahrenheit equivalent of 98 degrees Celsius is 208.4.\n"
     ]
    }
   ],
   "source": [
    "print(\"The Fahrenheit equivalent of \" + str(celsius) + \" degrees Celsius is \" + str(fahrenheit(celsius)) + \".\")"
   ]
  },
  {
   "cell_type": "code",
   "execution_count": 55,
   "metadata": {},
   "outputs": [
    {
     "name": "stdout",
     "output_type": "stream",
     "text": [
      "2\n"
     ]
    }
   ],
   "source": [
    "#generic import\n",
    "\n",
    "import random\n",
    "\n",
    "random.seed(42)\n",
    "\n",
    "print(random.randint(1,10))"
   ]
  },
  {
   "cell_type": "code",
   "execution_count": 56,
   "metadata": {},
   "outputs": [
    {
     "name": "stdout",
     "output_type": "stream",
     "text": [
      "13\n"
     ]
    }
   ],
   "source": [
    "#function import\n",
    "\n",
    "from random import randint\n",
    "\n",
    "print(randint(10,100))"
   ]
  },
  {
   "cell_type": "code",
   "execution_count": 57,
   "metadata": {},
   "outputs": [
    {
     "name": "stdout",
     "output_type": "stream",
     "text": [
      "0.7415504997598329\n",
      "251\n"
     ]
    }
   ],
   "source": [
    "#Universal import\n",
    "#universal import is when you import every function from a module so that \n",
    "#whenever you call any function from that module you do not need to type the modules name and a period\n",
    "\n",
    "from random import *\n",
    "\n",
    "print(random())#> 0.0 and < 1.0 any random number\n",
    "print(randint(1,1000))"
   ]
  },
  {
   "cell_type": "code",
   "execution_count": 58,
   "metadata": {},
   "outputs": [
    {
     "name": "stdout",
     "output_type": "stream",
     "text": [
      "The car can travel 13 miles per gallon.\n",
      "The car's fuel tank can hold 17 gallons.\n",
      "The car can travel 235 miles on a full tank.\n"
     ]
    }
   ],
   "source": [
    "#Example\n",
    "\n",
    "#Miles per galon\n",
    "\n",
    "from random import randint\n",
    "\n",
    "# generates random integer between and inclusive of 10 and 25 to represent gas in the car's fuel tank\n",
    "fuel = randint(10, 25)\n",
    "\n",
    "# generates random integer between and inclusive of 200 and 400 to represent miles the car can go without refueling\n",
    "miles = randint(200, 400)\n",
    "\n",
    "# calculates and displays the MPG of the car assuming car manufacturers overestimates in their claims\n",
    "print(\"The car can travel \" + str(miles // fuel) + \" miles per gallon.\")\n",
    "\n",
    "# displays the number of gallons of fuel that the car's fuel tank can hold\n",
    "print(\"The car's fuel tank can hold \" + str(fuel) + \" gallons.\")\n",
    "\n",
    "# displays the number of miles that the car can travel on a full tank\n",
    "print(\"The car can travel \" + str(miles) + \" miles on a full tank.\")"
   ]
  },
  {
   "cell_type": "markdown",
   "metadata": {},
   "source": [
    "#### Variable Scope"
   ]
  },
  {
   "cell_type": "code",
   "execution_count": 59,
   "metadata": {},
   "outputs": [],
   "source": [
    "example = \"hello world\"  #global scope\n",
    "\n",
    "def loc_ex():\n",
    "    example = \"this is a string\"  #local scope\n",
    "    return example"
   ]
  },
  {
   "cell_type": "code",
   "execution_count": 60,
   "metadata": {},
   "outputs": [
    {
     "name": "stdout",
     "output_type": "stream",
     "text": [
      "hello world\n",
      "this is a string\n"
     ]
    }
   ],
   "source": [
    "print(example)\n",
    "print(loc_ex())"
   ]
  },
  {
   "cell_type": "code",
   "execution_count": 61,
   "metadata": {},
   "outputs": [],
   "source": [
    "#local variables cannot be used by code in the global scope\n",
    "\n",
    "def loc_ex():\n",
    "    breakfast = \"Waffles\"\n",
    "    return breakfast"
   ]
  },
  {
   "cell_type": "code",
   "execution_count": 62,
   "metadata": {},
   "outputs": [
    {
     "data": {
      "text/plain": [
       "'Waffles'"
      ]
     },
     "execution_count": 62,
     "metadata": {},
     "output_type": "execute_result"
    }
   ],
   "source": [
    "loc_ex()\n"
   ]
  },
  {
   "cell_type": "code",
   "execution_count": 63,
   "metadata": {
    "scrolled": true
   },
   "outputs": [
    {
     "ename": "NameError",
     "evalue": "name 'breakfast' is not defined",
     "output_type": "error",
     "traceback": [
      "\u001b[1;31m---------------------------------------------------------------------------\u001b[0m",
      "\u001b[1;31mNameError\u001b[0m                                 Traceback (most recent call last)",
      "\u001b[1;32m<ipython-input-63-bfda96e5edaf>\u001b[0m in \u001b[0;36m<module>\u001b[1;34m\u001b[0m\n\u001b[1;32m----> 1\u001b[1;33m \u001b[0mprint\u001b[0m\u001b[1;33m(\u001b[0m\u001b[0mbreakfast\u001b[0m\u001b[1;33m)\u001b[0m\u001b[1;33m\u001b[0m\u001b[0m\n\u001b[0m",
      "\u001b[1;31mNameError\u001b[0m: name 'breakfast' is not defined"
     ]
    }
   ],
   "source": [
    "print(breakfast)"
   ]
  },
  {
   "cell_type": "code",
   "execution_count": 64,
   "metadata": {},
   "outputs": [],
   "source": [
    "#global variables can be accessed by code in a local scope\n",
    "\n",
    "def print_glob():\n",
    "    print(global_var)"
   ]
  },
  {
   "cell_type": "code",
   "execution_count": 65,
   "metadata": {},
   "outputs": [
    {
     "name": "stdout",
     "output_type": "stream",
     "text": [
      "This is a string\n"
     ]
    }
   ],
   "source": [
    "global_var = \"This is a string\"\n",
    "\n",
    "print_glob()"
   ]
  },
  {
   "cell_type": "code",
   "execution_count": 66,
   "metadata": {},
   "outputs": [],
   "source": [
    "#the local scope of one function can't use variables from another function's local scope\n",
    "\n",
    "def first():\n",
    "    loc = 2\n",
    "    return loc"
   ]
  },
  {
   "cell_type": "code",
   "execution_count": 67,
   "metadata": {},
   "outputs": [],
   "source": [
    "def second():\n",
    "    return loc"
   ]
  },
  {
   "cell_type": "code",
   "execution_count": 68,
   "metadata": {},
   "outputs": [
    {
     "data": {
      "text/plain": [
       "2"
      ]
     },
     "execution_count": 68,
     "metadata": {},
     "output_type": "execute_result"
    }
   ],
   "source": [
    "first()"
   ]
  },
  {
   "cell_type": "code",
   "execution_count": 69,
   "metadata": {},
   "outputs": [
    {
     "ename": "NameError",
     "evalue": "name 'loc' is not defined",
     "output_type": "error",
     "traceback": [
      "\u001b[1;31m---------------------------------------------------------------------------\u001b[0m",
      "\u001b[1;31mNameError\u001b[0m                                 Traceback (most recent call last)",
      "\u001b[1;32m<ipython-input-69-c4bd475cc200>\u001b[0m in \u001b[0;36m<module>\u001b[1;34m\u001b[0m\n\u001b[1;32m----> 1\u001b[1;33m \u001b[0msecond\u001b[0m\u001b[1;33m(\u001b[0m\u001b[1;33m)\u001b[0m\u001b[1;33m\u001b[0m\u001b[0m\n\u001b[0m",
      "\u001b[1;32m<ipython-input-67-de5b358d69ea>\u001b[0m in \u001b[0;36msecond\u001b[1;34m()\u001b[0m\n\u001b[0;32m      1\u001b[0m \u001b[1;32mdef\u001b[0m \u001b[0msecond\u001b[0m\u001b[1;33m(\u001b[0m\u001b[1;33m)\u001b[0m\u001b[1;33m:\u001b[0m\u001b[1;33m\u001b[0m\u001b[0m\n\u001b[1;32m----> 2\u001b[1;33m     \u001b[1;32mreturn\u001b[0m \u001b[0mloc\u001b[0m\u001b[1;33m\u001b[0m\u001b[0m\n\u001b[0m",
      "\u001b[1;31mNameError\u001b[0m: name 'loc' is not defined"
     ]
    }
   ],
   "source": [
    "second()"
   ]
  },
  {
   "cell_type": "code",
   "execution_count": 70,
   "metadata": {},
   "outputs": [],
   "source": [
    "#You can use the same name for different variables as long as they are in different scopes\n",
    "\n",
    "def loc_ex1():\n",
    "    fruit = \"pear\"\n",
    "    print(fruit)"
   ]
  },
  {
   "cell_type": "code",
   "execution_count": 71,
   "metadata": {},
   "outputs": [],
   "source": [
    "def loc_ex2():\n",
    "    fruit = \"banana\"\n",
    "    print(fruit)"
   ]
  },
  {
   "cell_type": "code",
   "execution_count": 72,
   "metadata": {},
   "outputs": [],
   "source": [
    "fruit = \"apple\""
   ]
  },
  {
   "cell_type": "code",
   "execution_count": 73,
   "metadata": {},
   "outputs": [
    {
     "name": "stdout",
     "output_type": "stream",
     "text": [
      "pear\n",
      "banana\n",
      "apple\n"
     ]
    }
   ],
   "source": [
    "loc_ex1()\n",
    "loc_ex2()\n",
    "print(fruit)"
   ]
  },
  {
   "cell_type": "code",
   "execution_count": 74,
   "metadata": {},
   "outputs": [],
   "source": [
    "#Another example:\n",
    "\n",
    "def loc_ex():\n",
    "    global fruit\n",
    "    fruit = \"banana\"\n",
    "    print(fruit)\n",
    "    "
   ]
  },
  {
   "cell_type": "code",
   "execution_count": 75,
   "metadata": {},
   "outputs": [
    {
     "name": "stdout",
     "output_type": "stream",
     "text": [
      "chickoo\n",
      "******************\n",
      "banana\n",
      "------------\n",
      "banana\n"
     ]
    }
   ],
   "source": [
    "fruit = \"chickoo\"\n",
    "print(fruit)\n",
    "print(\"******************\")\n",
    "loc_ex()\n",
    "print(\"------------\")\n",
    "print(fruit)"
   ]
  },
  {
   "cell_type": "code",
   "execution_count": 76,
   "metadata": {},
   "outputs": [],
   "source": [
    "words = \"hello world\"\n",
    " \n",
    " \n",
    "def hi_world():\n",
    "    return words"
   ]
  },
  {
   "cell_type": "code",
   "execution_count": 77,
   "metadata": {},
   "outputs": [
    {
     "name": "stdout",
     "output_type": "stream",
     "text": [
      "hello world\n"
     ]
    }
   ],
   "source": [
    "print(hi_world())"
   ]
  },
  {
   "cell_type": "markdown",
   "metadata": {},
   "source": [
    "#### Flow control"
   ]
  },
  {
   "cell_type": "code",
   "execution_count": 78,
   "metadata": {},
   "outputs": [
    {
     "name": "stdout",
     "output_type": "stream",
     "text": [
      "False\n",
      "True\n"
     ]
    }
   ],
   "source": [
    "#Greater than\n",
    "print(1>2)\n",
    "print(7>3)"
   ]
  },
  {
   "cell_type": "code",
   "execution_count": 79,
   "metadata": {},
   "outputs": [
    {
     "name": "stdout",
     "output_type": "stream",
     "text": [
      "True\n",
      "False\n"
     ]
    }
   ],
   "source": [
    "#Less than\n",
    "print(5.79<6)\n",
    "print(3<3)"
   ]
  },
  {
   "cell_type": "code",
   "execution_count": 80,
   "metadata": {},
   "outputs": [
    {
     "name": "stdout",
     "output_type": "stream",
     "text": [
      "True\n",
      "True\n"
     ]
    }
   ],
   "source": [
    "#Greater than or equal to & less than or equal to\n",
    "print(9>=9)\n",
    "print(1<=2)"
   ]
  },
  {
   "cell_type": "code",
   "execution_count": 81,
   "metadata": {},
   "outputs": [
    {
     "name": "stdout",
     "output_type": "stream",
     "text": [
      "True\n",
      "False\n"
     ]
    }
   ],
   "source": [
    "#Not equal to\n",
    "print(10!=100)\n",
    "print(10!=10)"
   ]
  },
  {
   "cell_type": "code",
   "execution_count": 82,
   "metadata": {},
   "outputs": [
    {
     "name": "stdout",
     "output_type": "stream",
     "text": [
      "False\n",
      "True\n"
     ]
    }
   ],
   "source": [
    "#Equal to\n",
    "print(10==100)\n",
    "print(10==10)"
   ]
  },
  {
   "cell_type": "code",
   "execution_count": 83,
   "metadata": {},
   "outputs": [
    {
     "name": "stdout",
     "output_type": "stream",
     "text": [
      "True\n",
      "True\n",
      "False\n"
     ]
    }
   ],
   "source": [
    "print(\"hello\" == \"hello\")\n",
    "print(\"hello\" != \"world\")\n",
    "print(\"Hello\" == \"hello\")"
   ]
  },
  {
   "cell_type": "code",
   "execution_count": 84,
   "metadata": {},
   "outputs": [
    {
     "name": "stdout",
     "output_type": "stream",
     "text": [
      "True\n",
      "True\n",
      "True\n"
     ]
    }
   ],
   "source": [
    "print(4.0>=4)\n",
    "print(4.0<=4)\n",
    "print(4.0==4)"
   ]
  },
  {
   "cell_type": "code",
   "execution_count": 85,
   "metadata": {},
   "outputs": [
    {
     "name": "stdout",
     "output_type": "stream",
     "text": [
      "True\n",
      "False\n",
      "False\n",
      "False\n"
     ]
    }
   ],
   "source": [
    "#And operator\n",
    "\n",
    "print(4>1 and \"word\" == \"word\")\n",
    "print(8.76==8.7600 and 2!=2)\n",
    "print(\"earth\"==\"Earth\" and 6<=3)\n",
    "print(10==5 and 10!=5)"
   ]
  },
  {
   "cell_type": "code",
   "execution_count": 86,
   "metadata": {},
   "outputs": [
    {
     "name": "stdout",
     "output_type": "stream",
     "text": [
      "True\n",
      "True\n",
      "False\n",
      "True\n"
     ]
    }
   ],
   "source": [
    "#Or operator\n",
    "\n",
    "print(4>1 or \"word\" == \"word\")\n",
    "print(8.76==8.7600 or 2!=2)\n",
    "print(\"earth\"==\"Earth\" or 6<=3)\n",
    "print(10==5 or 10!=5)"
   ]
  },
  {
   "cell_type": "code",
   "execution_count": 87,
   "metadata": {},
   "outputs": [
    {
     "name": "stdout",
     "output_type": "stream",
     "text": [
      "False\n",
      "True\n"
     ]
    }
   ],
   "source": [
    "#Not operator\n",
    "\n",
    "print(not 6482>0)\n",
    "print(not \"Python\"!=\"Python\")"
   ]
  },
  {
   "cell_type": "code",
   "execution_count": 89,
   "metadata": {},
   "outputs": [
    {
     "name": "stdout",
     "output_type": "stream",
     "text": [
      "Type the name of the vegetablecapsicum\n"
     ]
    }
   ],
   "source": [
    "#If statement\n",
    "\n",
    "veg = input(\"Type the name of the vegetable\")\n",
    "\n",
    "if veg == \"corn\":\n",
    "    print(\"The vegetable is corn\")"
   ]
  },
  {
   "cell_type": "code",
   "execution_count": 90,
   "metadata": {},
   "outputs": [
    {
     "name": "stdout",
     "output_type": "stream",
     "text": [
      "Type the name of the vegetablecorn\n",
      "The vegetable is corn\n"
     ]
    }
   ],
   "source": [
    "#If and else statement\n",
    "\n",
    "veg = input(\"Type the name of the vegetable\")\n",
    "\n",
    "if veg == \"corn\":\n",
    "    print(\"The vegetable is corn\")\n",
    "else:\n",
    "    print(\"The vegetable is not corn\")\n",
    "        "
   ]
  },
  {
   "cell_type": "code",
   "execution_count": 91,
   "metadata": {},
   "outputs": [
    {
     "name": "stdout",
     "output_type": "stream",
     "text": [
      "What was the applicant's grade point average? 3.78\n",
      "Is the student going to be educated at an approved institution? no\n",
      "The applicant does not qualify since they have not been accepted into an approved institution\n"
     ]
    }
   ],
   "source": [
    "#Nested if and else\n",
    "\n",
    "gpa = float(input(\"What was the applicant's grade point average? \"))\n",
    "\n",
    "if gpa >= 3.7:\n",
    "    inst_app = input(\"Is the student going to be educated at an approved institution? \")\n",
    "    if inst_app == \"yes\":\n",
    "        print(\"The applicant qualifies for a low APR Student loan.\")\n",
    "    else:\n",
    "        print(\"The applicant does not qualify since they have not been accepted into an approved institution\")\n",
    "else:\n",
    "    print(\"The applicant did not have high enough grades to qualify.\")"
   ]
  },
  {
   "cell_type": "code",
   "execution_count": 92,
   "metadata": {},
   "outputs": [
    {
     "name": "stdout",
     "output_type": "stream",
     "text": [
      "Please enter the student's score. 78\n",
      "This student's score of 78 is a C.\n"
     ]
    }
   ],
   "source": [
    "#Example\n",
    "\n",
    "#Student Grade problem\n",
    "\n",
    "score = int(input(\"Please enter the student's score. \"))\n",
    " \n",
    "if score >= 90:\n",
    "    print(\"This student's score of \" + str(score) + \" is an A.\")\n",
    "else:\n",
    "    if score >= 80:\n",
    "        print(\"This student's score of \" + str(score) + \" is a B.\")\n",
    "    else:\n",
    "        if score >= 70:\n",
    "            print(\"This student's score of \" + str(score) + \" is a C.\")\n",
    "        else:\n",
    "            if score >= 60:\n",
    "                print(\"This student's score of \" + str(score) + \" is a D.\")\n",
    "            else:\n",
    "                print(\"This student's score of \" + str(score) + \" is a F.\")\n"
   ]
  },
  {
   "cell_type": "code",
   "execution_count": 93,
   "metadata": {},
   "outputs": [
    {
     "name": "stdout",
     "output_type": "stream",
     "text": [
      "Please enter an integer. 345\n",
      "The number you entered is greater than 100. \n"
     ]
    }
   ],
   "source": [
    "#Elif statement\n",
    "\n",
    "user_num = int(input(\"Please enter an integer. \"))\n",
    "\n",
    "if user_num < 0:\n",
    "    print(\"the number you have entered is less than 0. \")\n",
    "elif user_num == 0:\n",
    "    print(\"the number you have entered is 0. \")\n",
    "elif 0 < user_num <= 100:\n",
    "    print(\"the number you entered can be 1, 100 or anything in between\")\n",
    "else:\n",
    "    print(\"The number you entered is greater than 100. \")"
   ]
  },
  {
   "cell_type": "code",
   "execution_count": 94,
   "metadata": {},
   "outputs": [
    {
     "name": "stdout",
     "output_type": "stream",
     "text": [
      "The roman numeral equivalent of 2 is II.\n"
     ]
    }
   ],
   "source": [
    "#Example\n",
    "\n",
    "#Roman number problem\n",
    "\n",
    "from random import randint\n",
    "one_to_ten = randint(1, 10)\n",
    " \n",
    "if one_to_ten == 1:\n",
    "    print(\"The roman numeral equivalent of \" + str(one_to_ten) + \" is I.\")\n",
    "elif one_to_ten == 2:\n",
    "    print(\"The roman numeral equivalent of \" + str(one_to_ten) + \" is II.\")\n",
    "elif one_to_ten == 3:\n",
    "    print(\"The roman numeral equivalent of \" + str(one_to_ten) + \" is III.\")\n",
    "elif one_to_ten == 4:\n",
    "    print(\"The roman numeral equivalent of \" + str(one_to_ten) + \" is IV.\")\n",
    "elif one_to_ten == 5:\n",
    "    print(\"The roman numeral equivalent of \" + str(one_to_ten) + \" is V.\")\n",
    "elif one_to_ten == 6:\n",
    "    print(\"The roman numeral equivalent of \" + str(one_to_ten) + \" is VI.\")\n",
    "elif one_to_ten == 7:\n",
    "    print(\"The roman numeral equivalent of \" + str(one_to_ten) + \" is VII.\")\n",
    "elif one_to_ten == 8:\n",
    "    print(\"The roman numeral equivalent of \" + str(one_to_ten) + \" is VIII.\")\n",
    "elif one_to_ten == 9:\n",
    "    print(\"The roman numeral equivalent of \" + str(one_to_ten) + \" is IX.\")\n",
    "else:\n",
    "    print(\"The roman numeral equivalent of \" + str(one_to_ten) + \" is X.\")"
   ]
  },
  {
   "cell_type": "code",
   "execution_count": 95,
   "metadata": {},
   "outputs": [
    {
     "name": "stdout",
     "output_type": "stream",
     "text": [
      "Enter any string other than an empty ones\n",
      "Thank you for entering something\n"
     ]
    }
   ],
   "source": [
    "#Truthy and falsey\n",
    "#falsey - is an empty string\n",
    "\n",
    "strings_ex = input(\"Enter any string other than an empty one\")\n",
    "\n",
    "if strings_ex:\n",
    "    print(\"Thank you for entering something\")\n",
    "else:\n",
    "    print(\"You did not enter a string.\")"
   ]
  },
  {
   "cell_type": "code",
   "execution_count": 96,
   "metadata": {},
   "outputs": [
    {
     "name": "stdout",
     "output_type": "stream",
     "text": [
      "Enter any string other than an empty one\n",
      "You did not enter a string.\n"
     ]
    }
   ],
   "source": [
    "#Same example as that of previous one\n",
    "\n",
    "strings_ex = input(\"Enter any string other than an empty one\")\n",
    "\n",
    "if strings_ex != \"\":\n",
    "    print(\"Thank you for entering something\")\n",
    "else:\n",
    "    print(\"You did not enter a string.\")"
   ]
  },
  {
   "cell_type": "code",
   "execution_count": 97,
   "metadata": {},
   "outputs": [
    {
     "name": "stdout",
     "output_type": "stream",
     "text": [
      "False\n",
      "False\n",
      "True\n",
      "True\n",
      "False\n",
      "True\n",
      "True\n"
     ]
    }
   ],
   "source": [
    "print(bool(0))\n",
    "print(bool(0.0))\n",
    "print(bool(499))\n",
    "print(bool(3.14))\n",
    "\n",
    "print(bool(\"\"))\n",
    "print(bool(\" \"))\n",
    "print(bool(\"anything\"))"
   ]
  },
  {
   "cell_type": "markdown",
   "metadata": {},
   "source": [
    "#### Introduction to loops"
   ]
  },
  {
   "cell_type": "code",
   "execution_count": 98,
   "metadata": {},
   "outputs": [
    {
     "ename": "SyntaxError",
     "evalue": "unexpected EOF while parsing (<ipython-input-98-6dc01017d070>, line 6)",
     "output_type": "error",
     "traceback": [
      "\u001b[1;36m  File \u001b[1;32m\"<ipython-input-98-6dc01017d070>\"\u001b[1;36m, line \u001b[1;32m6\u001b[0m\n\u001b[1;33m    #code to be run in a loop\u001b[0m\n\u001b[1;37m                             ^\u001b[0m\n\u001b[1;31mSyntaxError\u001b[0m\u001b[1;31m:\u001b[0m unexpected EOF while parsing\n"
     ]
    }
   ],
   "source": [
    "#While syntax\n",
    "\n",
    "counter = 0\n",
    "\n",
    "while counter < 3:\n",
    "    #code to be run in a loop"
   ]
  },
  {
   "cell_type": "code",
   "execution_count": 99,
   "metadata": {},
   "outputs": [
    {
     "name": "stdout",
     "output_type": "stream",
     "text": [
      "Something\n",
      "Something\n",
      "Something\n"
     ]
    }
   ],
   "source": [
    "#While example\n",
    "\n",
    "counter = 0\n",
    "\n",
    "while counter < 3:\n",
    "    print(\"Something\")\n",
    "    counter += 1"
   ]
  },
  {
   "cell_type": "markdown",
   "metadata": {},
   "source": [
    "#### Important while running while loops -> it can easily be an infinite loop. so be careful"
   ]
  },
  {
   "cell_type": "code",
   "execution_count": 100,
   "metadata": {},
   "outputs": [
    {
     "name": "stdout",
     "output_type": "stream",
     "text": [
      "Please enter a positive integer.78\n",
      "78\n",
      "3081\n"
     ]
    }
   ],
   "source": [
    "#Example\n",
    "\n",
    "\n",
    "#Sum of numbers \n",
    "\n",
    "pos_int = int(input(\"Please enter a positive integer.\"))\n",
    "\n",
    "int_init = pos_int\n",
    "\n",
    "summed = 0\n",
    "while pos_int > 0:\n",
    "    summed += pos_int\n",
    "    pos_int -= 1\n",
    " \n",
    "print(int_init)  # displays the initial value of pos_int\n",
    "print(summed)    # displays the sum of integers from pos_int"
   ]
  },
  {
   "cell_type": "code",
   "execution_count": 101,
   "metadata": {
    "scrolled": true
   },
   "outputs": [
    {
     "name": "stdout",
     "output_type": "stream",
     "text": [
      "h\n",
      "o\n",
      "u\n",
      "s\n",
      "e\n"
     ]
    }
   ],
   "source": [
    "#For loops\n",
    "\n",
    "word = \"house\"\n",
    "\n",
    "for x in word:\n",
    "    print(x)"
   ]
  },
  {
   "cell_type": "code",
   "execution_count": 102,
   "metadata": {},
   "outputs": [
    {
     "name": "stdout",
     "output_type": "stream",
     "text": [
      "e\n"
     ]
    }
   ],
   "source": [
    "print(x)"
   ]
  },
  {
   "cell_type": "code",
   "execution_count": 103,
   "metadata": {},
   "outputs": [
    {
     "name": "stdout",
     "output_type": "stream",
     "text": [
      "Please enter a string.doggie\n",
      "doggie\n",
      "6\n"
     ]
    }
   ],
   "source": [
    "#Example\n",
    "\n",
    "#Number of characters in a string\n",
    "\n",
    "user_str = input(\"Please enter a string.\")\n",
    " \n",
    "count = 0  # This variable will be used to hold the number of characters in the string.\n",
    "for char in user_str:\n",
    "    count += 1\n",
    " \n",
    "print(user_str)  \n",
    "print(count)"
   ]
  },
  {
   "cell_type": "code",
   "execution_count": 104,
   "metadata": {},
   "outputs": [
    {
     "name": "stdout",
     "output_type": "stream",
     "text": [
      "0\n",
      "1\n",
      "2\n",
      "3\n",
      "4\n"
     ]
    }
   ],
   "source": [
    "#range() with one argument\n",
    "\n",
    "one_input = range(5)\n",
    "\n",
    "for num in one_input:\n",
    "    print(num)"
   ]
  },
  {
   "cell_type": "code",
   "execution_count": 105,
   "metadata": {},
   "outputs": [
    {
     "name": "stdout",
     "output_type": "stream",
     "text": [
      "5\n",
      "6\n",
      "7\n",
      "8\n",
      "9\n"
     ]
    }
   ],
   "source": [
    "#range() with two arguments\n",
    "\n",
    "two_inputs = range(5,10)\n",
    "\n",
    "for num in two_inputs:\n",
    "    print(num)"
   ]
  },
  {
   "cell_type": "code",
   "execution_count": 106,
   "metadata": {},
   "outputs": [
    {
     "name": "stdout",
     "output_type": "stream",
     "text": [
      "1\n",
      "4\n",
      "7\n",
      "10\n",
      "13\n",
      "16\n",
      "19\n"
     ]
    }
   ],
   "source": [
    "#range() with three arguments\n",
    "\n",
    "three_inputs = range(1,20,3)\n",
    "\n",
    "for num in three_inputs:\n",
    "    print(num)"
   ]
  },
  {
   "cell_type": "code",
   "execution_count": 107,
   "metadata": {},
   "outputs": [
    {
     "name": "stdout",
     "output_type": "stream",
     "text": [
      "20\n",
      "17\n",
      "14\n",
      "11\n",
      "8\n",
      "5\n",
      "2\n"
     ]
    }
   ],
   "source": [
    "#range() with three arguments\n",
    "\n",
    "three_inputs = range(20,1,-3)\n",
    "\n",
    "for num in three_inputs:\n",
    "    print(num)"
   ]
  },
  {
   "cell_type": "code",
   "execution_count": 108,
   "metadata": {},
   "outputs": [
    {
     "name": "stdout",
     "output_type": "stream",
     "text": [
      "1\n",
      "2\n",
      "Fizz\n",
      "4\n",
      "Buzz\n",
      "Fizz\n",
      "7\n",
      "8\n",
      "Fizz\n",
      "Buzz\n",
      "11\n",
      "Fizz\n",
      "13\n",
      "14\n",
      "FizzBuzz\n",
      "16\n",
      "17\n",
      "Fizz\n",
      "19\n",
      "Buzz\n",
      "Fizz\n",
      "22\n",
      "23\n",
      "Fizz\n",
      "Buzz\n",
      "26\n",
      "Fizz\n",
      "28\n",
      "29\n",
      "FizzBuzz\n",
      "31\n",
      "32\n",
      "Fizz\n",
      "34\n",
      "Buzz\n",
      "Fizz\n",
      "37\n",
      "38\n",
      "Fizz\n",
      "Buzz\n",
      "41\n",
      "Fizz\n",
      "43\n",
      "44\n",
      "FizzBuzz\n",
      "46\n",
      "47\n",
      "Fizz\n",
      "49\n",
      "Buzz\n"
     ]
    }
   ],
   "source": [
    "#Example\n",
    "\n",
    "#Fizz Buzz\n",
    "\n",
    "for num in range(1, 51):\n",
    "    # If num is divisible by both 3 and 5, \"FizzBuzz\" will be printed.\n",
    "    if num % 3 == 0 and num % 5 == 0:\n",
    "        print(\"FizzBuzz\")\n",
    "    # If num is only divisible by 3, \"Fizz\" will be printed.\n",
    "    elif num % 3 == 0:\n",
    "        print(\"Fizz\")\n",
    "    # If num is only divisible by 5, \"Buzz\" will be printed.\n",
    "    elif num % 5 == 0:\n",
    "        print(\"Buzz\")\n",
    "    # num itself will be printed in all other cases.\n",
    "    else:\n",
    "        print(num)"
   ]
  },
  {
   "cell_type": "code",
   "execution_count": 109,
   "metadata": {},
   "outputs": [],
   "source": [
    "#Example\n",
    "\n",
    "#Factorial\n",
    "\n",
    "def factorial(fac_num):\n",
    "    returned = 1\n",
    "    for item in range(fac_num, 1, -1):\n",
    "        returned *= item\n",
    " \n",
    "    # returns returned, which now holds the value of fac_num's factorial\n",
    "    return returned"
   ]
  },
  {
   "cell_type": "code",
   "execution_count": 110,
   "metadata": {},
   "outputs": [
    {
     "name": "stdout",
     "output_type": "stream",
     "text": [
      "6\n",
      "24\n",
      "120\n"
     ]
    }
   ],
   "source": [
    "print(factorial(3))  # 6\n",
    "print(factorial(4))  # 24\n",
    "print(factorial(5))  # 120"
   ]
  },
  {
   "cell_type": "markdown",
   "metadata": {},
   "source": [
    "#### Strings and string functions"
   ]
  },
  {
   "cell_type": "code",
   "execution_count": 111,
   "metadata": {},
   "outputs": [
    {
     "name": "stdout",
     "output_type": "stream",
     "text": [
      "THERE ARE NO CAPITALS HERE\n",
      "there are no capitals here\n",
      "this is shouting text!\n"
     ]
    }
   ],
   "source": [
    "all_low = \"there are no capitals here\"\n",
    "print(all_low.upper())\n",
    "print(all_low)\n",
    "all_up = \"THIS IS SHOUTING TEXT!\"\n",
    "print(all_up.lower())"
   ]
  },
  {
   "cell_type": "code",
   "execution_count": 112,
   "metadata": {},
   "outputs": [
    {
     "name": "stdout",
     "output_type": "stream",
     "text": [
      "False\n",
      "True\n"
     ]
    }
   ],
   "source": [
    "print(\"Mixed Case\".isupper())\n",
    "print(\"ALL CAPS!\".isupper())"
   ]
  },
  {
   "cell_type": "code",
   "execution_count": 113,
   "metadata": {},
   "outputs": [
    {
     "name": "stdout",
     "output_type": "stream",
     "text": [
      "False\n",
      "True\n"
     ]
    }
   ],
   "source": [
    "print(\"AAAHHH!\".islower())\n",
    "print(\"$100 is a lot to make in an hour.\".islower())"
   ]
  },
  {
   "cell_type": "code",
   "execution_count": 114,
   "metadata": {},
   "outputs": [
    {
     "name": "stdout",
     "output_type": "stream",
     "text": [
      "False\n",
      "False\n"
     ]
    }
   ],
   "source": [
    "print(\"\".isupper())\n",
    "print(\"37&8.,?:\\\"\".islower())"
   ]
  },
  {
   "cell_type": "code",
   "execution_count": 115,
   "metadata": {},
   "outputs": [
    {
     "name": "stdout",
     "output_type": "stream",
     "text": [
      "True\n"
     ]
    }
   ],
   "source": [
    "print(\"37&8.,?:\\\"aass\".islower())"
   ]
  },
  {
   "cell_type": "code",
   "execution_count": 116,
   "metadata": {
    "scrolled": true
   },
   "outputs": [
    {
     "name": "stdout",
     "output_type": "stream",
     "text": [
      "shout!\n",
      "False\n"
     ]
    }
   ],
   "source": [
    "print(\"SHOUT!\".lower())\n",
    "print(\"SHOUT!\".lower().isupper())"
   ]
  },
  {
   "cell_type": "code",
   "execution_count": 117,
   "metadata": {},
   "outputs": [
    {
     "name": "stdout",
     "output_type": "stream",
     "text": [
      "True\n",
      "False\n",
      "True\n",
      "True\n",
      "True\n"
     ]
    }
   ],
   "source": [
    "print(\"Batman\".isalpha())     #true\n",
    "print(\"Batman123\".isalpha())  #false\n",
    "print(\"Batman123\".isalnum())  #true\n",
    "print(\"Batman\".isalnum())     #true\n",
    "print(\"123\".isalnum())        #true"
   ]
  },
  {
   "cell_type": "code",
   "execution_count": 118,
   "metadata": {},
   "outputs": [
    {
     "name": "stdout",
     "output_type": "stream",
     "text": [
      "True\n",
      "False\n"
     ]
    }
   ],
   "source": [
    "print(\"123\".isdecimal())\n",
    "print(\"3.14\".isdecimal())"
   ]
  },
  {
   "cell_type": "code",
   "execution_count": 119,
   "metadata": {},
   "outputs": [
    {
     "name": "stdout",
     "output_type": "stream",
     "text": [
      "True\n",
      "False\n"
     ]
    }
   ],
   "source": [
    "#isdecimal similar to only numbers. it doesnt accept even period/dot\n",
    "\n",
    "print(\"79\".isdecimal())\n",
    "print(\"\".isdecimal())"
   ]
  },
  {
   "cell_type": "code",
   "execution_count": 120,
   "metadata": {},
   "outputs": [
    {
     "name": "stdout",
     "output_type": "stream",
     "text": [
      "False\n",
      "True\n",
      "True\n",
      "False\n",
      "False\n",
      "True\n"
     ]
    }
   ],
   "source": [
    "print(\"\".isspace())\n",
    "print(\"  \".isspace())\n",
    "print(\"     \".isspace())\n",
    "print(\"   3    \".isspace())\n",
    "print(\"not just spaces\".isspace())\n",
    "print(\"not just spaces\"[3].isspace())"
   ]
  },
  {
   "cell_type": "code",
   "execution_count": 121,
   "metadata": {},
   "outputs": [
    {
     "name": "stdout",
     "output_type": "stream",
     "text": [
      "True\n",
      "True\n",
      "False\n"
     ]
    }
   ],
   "source": [
    "print(\"The Empire Strikes Back\".istitle())\n",
    "print(\"Super Smash Brothers: Ultimate!\".istitle())\n",
    "print(\"the great gutsy\".istitle())"
   ]
  },
  {
   "cell_type": "code",
   "execution_count": 122,
   "metadata": {},
   "outputs": [
    {
     "name": "stdout",
     "output_type": "stream",
     "text": [
      "True\n",
      "True\n",
      "False\n"
     ]
    }
   ],
   "source": [
    "print(\"this is a string\".startswith(\"this\"))\n",
    "print(\"this is a string\".startswith(\"t\"))\n",
    "print(\"this is a string\".startswith(\"T\"))"
   ]
  },
  {
   "cell_type": "code",
   "execution_count": 123,
   "metadata": {},
   "outputs": [
    {
     "name": "stdout",
     "output_type": "stream",
     "text": [
      "True\n",
      "False\n",
      "True\n"
     ]
    }
   ],
   "source": [
    "print(\"To infinity and beyond!\".endswith(\"beyond!\"))\n",
    "print(\"To infinity and beyond!\".endswith(\"beyond\"))\n",
    "print(\"To infinity and beyond!\".endswith(\"!\"))"
   ]
  },
  {
   "cell_type": "code",
   "execution_count": 124,
   "metadata": {},
   "outputs": [
    {
     "name": "stdout",
     "output_type": "stream",
     "text": [
      "onetwothree\n",
      "one two three\n",
      "one,two,three\n",
      "one, two, three\n",
      "one...two...three\n"
     ]
    }
   ],
   "source": [
    "#join\n",
    "\n",
    "print(\"\".join([\"one\",\"two\",\"three\"]))\n",
    "print(\" \".join([\"one\",\"two\",\"three\"]))\n",
    "print(\",\".join([\"one\",\"two\",\"three\"]))\n",
    "print(\", \".join([\"one\",\"two\",\"three\"]))\n",
    "print(\"...\".join([\"one\",\"two\",\"three\"]))"
   ]
  },
  {
   "cell_type": "code",
   "execution_count": 125,
   "metadata": {
    "scrolled": true
   },
   "outputs": [
    {
     "name": "stdout",
     "output_type": "stream",
     "text": [
      "['Eggs,', 'Milk,', 'Waffles,', 'Bacon']\n",
      "['Eggs', ' Milk', ' Waffles', ' Bacon']\n",
      "['Eggs', 'Milk', 'Waffles', 'Bacon']\n"
     ]
    }
   ],
   "source": [
    "#split\n",
    "\n",
    "print(\"Eggs, Milk, Waffles, Bacon\".split())\n",
    "print(\"Eggs, Milk, Waffles, Bacon\".split(\",\"))\n",
    "print(\"Eggs, Milk, Waffles, Bacon\".split(\", \"))"
   ]
  },
  {
   "cell_type": "code",
   "execution_count": 126,
   "metadata": {},
   "outputs": [
    {
     "data": {
      "text/plain": [
       "'\\nCreate a variable called mixed_case and assign it the string \"A Song of Ice and Fire\"\\n\\nUse .isupper() to check if mixed_case is a string of all upper case letters.  print() the result.\\n\\nUse .islower() to check if mixed_case is a string of all lower case letters.  print() the result.\\n\\nChange all of the letters in mixed_case to upper case letters using .upper() and print() the result.\\n\\nChange all of the letters in mixed_case to lower case letters using .lower() and print() the result.\\n\\nUse the .istitle() method to check if mixed_case is title case and print the result.\\n\\nCreate a variable called title_case and assign it the result of .title() being called on mixed_case.\\n\\nprint() title_case\\n\\nCall startswith() on mixed_case with the letter mixed_case starts with as its argument.  print() the result.\\n\\nCall endswith() on mixed_case with the letter mixed_case ends with as its argument.  print() the result.\\n\\nCreate a variable called words and assign it the result of split() being used on mixed_case.\\n\\nprint the variable \"words\"\\n\\nUse the .join() method to join together all of the items in the list assigned to words as a single string.  Use .isalpha() to check if the string is made up entirely of letters.  Finally, use print() to display the result.\\n\\n'"
      ]
     },
     "execution_count": 126,
     "metadata": {},
     "output_type": "execute_result"
    }
   ],
   "source": [
    "'''\n",
    "Create a variable called mixed_case and assign it the string \"A Song of Ice and Fire\"\n",
    "\n",
    "Use .isupper() to check if mixed_case is a string of all upper case letters.  print() the result.\n",
    "\n",
    "Use .islower() to check if mixed_case is a string of all lower case letters.  print() the result.\n",
    "\n",
    "Change all of the letters in mixed_case to upper case letters using .upper() and print() the result.\n",
    "\n",
    "Change all of the letters in mixed_case to lower case letters using .lower() and print() the result.\n",
    "\n",
    "Use the .istitle() method to check if mixed_case is title case and print the result.\n",
    "\n",
    "Create a variable called title_case and assign it the result of .title() being called on mixed_case.\n",
    "\n",
    "print() title_case\n",
    "\n",
    "Call startswith() on mixed_case with the letter mixed_case starts with as its argument.  print() the result.\n",
    "\n",
    "Call endswith() on mixed_case with the letter mixed_case ends with as its argument.  print() the result.\n",
    "\n",
    "Create a variable called words and assign it the result of split() being used on mixed_case.\n",
    "\n",
    "print the variable \"words\"\n",
    "\n",
    "Use the .join() method to join together all of the items in the list assigned to words as a single string.  Use .isalpha() to check if the string is made up entirely of letters.  Finally, use print() to display the result.\n",
    "\n",
    "'''"
   ]
  },
  {
   "cell_type": "code",
   "execution_count": 127,
   "metadata": {},
   "outputs": [
    {
     "name": "stdout",
     "output_type": "stream",
     "text": [
      "False\n",
      "False\n",
      "A SONG OF ICE AND FIRE\n",
      "a song of ice and fire\n",
      "False\n",
      "A Song Of Ice And Fire\n",
      "True\n",
      "True\n",
      "['A', 'Song', 'of', 'Ice', 'and', 'Fire']\n",
      "True\n"
     ]
    }
   ],
   "source": [
    "#Strings - examples\n",
    "\n",
    "mixed_case = \"A Song of Ice and Fire\"\n",
    "print(mixed_case.isupper())  \n",
    "print(mixed_case.islower())  \n",
    "print(mixed_case.upper())  \n",
    "print(mixed_case.lower())  \n",
    "print(mixed_case.istitle())  \n",
    "title_case = mixed_case.title()\n",
    "print(title_case)  \n",
    "print(mixed_case.startswith(\"A\"))  \n",
    "print(mixed_case.endswith(\"e\"))  \n",
    "words = mixed_case.split()\n",
    "print(words)  \n",
    "print(\"\".join(words).isalpha())  "
   ]
  },
  {
   "cell_type": "code",
   "execution_count": 128,
   "metadata": {},
   "outputs": [
    {
     "name": "stdout",
     "output_type": "stream",
     "text": [
      "    hello world\n",
      "hello world  \n",
      "hello world    Four spaces later\n",
      "----hello world\n",
      "hello world****\n"
     ]
    }
   ],
   "source": [
    "#ljust and rjust\n",
    "\n",
    "print(\"hello world\".rjust(15))  #here total no of char is 15 and space is appended initially\n",
    "print(\"hello world\".ljust(13))\n",
    "print(\"hello world\".ljust(15) + \"Four spaces later\")\n",
    "\n",
    "print(\"hello world\".rjust(15, \"-\")) \n",
    "print(\"hello world\".ljust(15, \"*\")) \n"
   ]
  },
  {
   "cell_type": "code",
   "execution_count": 129,
   "metadata": {},
   "outputs": [
    {
     "name": "stdout",
     "output_type": "stream",
     "text": [
      "  hello world  \n",
      "**hello world**\n"
     ]
    }
   ],
   "source": [
    "#center - appends on both sides of the string\n",
    "\n",
    "print(\"hello world\".center(15))\n",
    "print(\"hello world\".center(15, \"*\"))\n"
   ]
  },
  {
   "cell_type": "code",
   "execution_count": 130,
   "metadata": {},
   "outputs": [
    {
     "name": "stdout",
     "output_type": "stream",
     "text": [
      "1111111I had an exciting trip!!!!!!!1111111111\n",
      "I had an exciting trip!!!!!!!\n",
      "1111111I had an exciting trip!!!!!!!\n",
      "I had an exciting trip!!!!!!!1111111111\n"
     ]
    }
   ],
   "source": [
    "#strip rstrip and lstrip - removes all the spaces from both sides of a string, rstrip - for right side and lstrip - for left side\n",
    "\n",
    "print(\"1111111I had an exciting trip!!!!!!!1111111111\")\n",
    "print(\"1111111I had an exciting trip!!!!!!!1111111111\".strip(\"1\"))\n",
    "print(\"1111111I had an exciting trip!!!!!!!1111111111\".rstrip(\"1\"))\n",
    "print(\"11111111I had an exciting trip!!!!!!!1111111111\".lstrip(\"1\"))\n"
   ]
  },
  {
   "cell_type": "code",
   "execution_count": 131,
   "metadata": {},
   "outputs": [
    {
     "name": "stdout",
     "output_type": "stream",
     "text": [
      "juice, bread, cheese, beef\n"
     ]
    }
   ],
   "source": [
    "print(\"juice, bread, cheese, beef, bread\".rstrip(\", bread\"))"
   ]
  },
  {
   "cell_type": "code",
   "execution_count": 132,
   "metadata": {},
   "outputs": [
    {
     "name": "stdout",
     "output_type": "stream",
     "text": [
      "yellow\n"
     ]
    }
   ],
   "source": [
    "print(\"blueblueyellowblue\".strip(\"eulb\"))"
   ]
  },
  {
   "cell_type": "code",
   "execution_count": 133,
   "metadata": {},
   "outputs": [
    {
     "name": "stdout",
     "output_type": "stream",
     "text": [
      "Good Afternoon\n"
     ]
    }
   ],
   "source": [
    "#replace\n",
    "print(\"Good Morning\".replace(\"Morning\", \"Afternoon\"))"
   ]
  },
  {
   "cell_type": "code",
   "execution_count": 134,
   "metadata": {},
   "outputs": [
    {
     "data": {
      "text/plain": [
       "'\\nDo all of this in a .py file:\\n\\nCreate a variable called the_string and assign it the string \"North Dakota\".\\n\\nCall .rjust() on the_string with 17 as its argument and print() the result.\\n\\nCall .ljust() on the_string with the arguments 17 and \"*\" then print() the result.\\n\\nCreate a variable called center_plus and assign it the result of .center() being called on the_string with 16 and \"+\" as arguments.\\n\\nUse print() to display the string assigned to center_plus.\\n\\nCall .lstrip() on the_string to remove \"North\" then print() the result.\\n\\nCall .rstrip() on center_plus with \"+\" as its argument and print() the result.\\n\\nCall .strip() on center_plus with \"+\" as its argument and print() the result.\\n\\nCall .replace() on the_string and replace \"North\" with \"South\".  print() the result.\\n'"
      ]
     },
     "execution_count": 134,
     "metadata": {},
     "output_type": "execute_result"
    }
   ],
   "source": [
    "'''\n",
    "Do all of this in a .py file:\n",
    "\n",
    "Create a variable called the_string and assign it the string \"North Dakota\".\n",
    "\n",
    "Call .rjust() on the_string with 17 as its argument and print() the result.\n",
    "\n",
    "Call .ljust() on the_string with the arguments 17 and \"*\" then print() the result.\n",
    "\n",
    "Create a variable called center_plus and assign it the result of .center() being called on the_string with 16 and \"+\" as arguments.\n",
    "\n",
    "Use print() to display the string assigned to center_plus.\n",
    "\n",
    "Call .lstrip() on the_string to remove \"North\" then print() the result.\n",
    "\n",
    "Call .rstrip() on center_plus with \"+\" as its argument and print() the result.\n",
    "\n",
    "Call .strip() on center_plus with \"+\" as its argument and print() the result.\n",
    "\n",
    "Call .replace() on the_string and replace \"North\" with \"South\".  print() the result.\n",
    "'''"
   ]
  },
  {
   "cell_type": "code",
   "execution_count": 135,
   "metadata": {},
   "outputs": [
    {
     "name": "stdout",
     "output_type": "stream",
     "text": [
      "     North Dakota\n",
      "North Dakota*****\n",
      "++North Dakota++\n",
      " Dakota\n",
      "++North Dakota\n",
      "North Dakota\n",
      "South Dakota\n"
     ]
    }
   ],
   "source": [
    "#Strings exercises - solutions\n",
    "\n",
    "the_string = \"North Dakota\"\n",
    "print(the_string.rjust(17))  \n",
    "print(the_string.ljust(17, \"*\"))  \n",
    "center_plus = the_string.center(16, \"+\")  \n",
    "print(center_plus)\n",
    "print(the_string.lstrip(\"North\"))\n",
    "print(center_plus.rstrip(\"+\"))  \n",
    "print(center_plus.strip(\"+\"))  \n",
    "print(the_string.replace(\"North\", \"South\"))  "
   ]
  },
  {
   "cell_type": "code",
   "execution_count": 136,
   "metadata": {},
   "outputs": [
    {
     "name": "stdout",
     "output_type": "stream",
     "text": [
      "5\n"
     ]
    }
   ],
   "source": [
    "#len\n",
    "\n",
    "print(len(\"tree \"))"
   ]
  },
  {
   "cell_type": "code",
   "execution_count": 137,
   "metadata": {},
   "outputs": [
    {
     "name": "stdout",
     "output_type": "stream",
     "text": [
      "this is a String\n",
      "16\n",
      "establishment\n",
      "13\n"
     ]
    }
   ],
   "source": [
    "print(\"this\" + \" \" + \"is a \" + \"String\")\n",
    "print(len(\"this\" + \" \" + \"is a \" + \"String\"))\n",
    "print(\"antidisestablishmentarianism\"[7:20])\n",
    "print(len(\"antidisestablishmentarianism\"[7:20]))"
   ]
  },
  {
   "cell_type": "code",
   "execution_count": 138,
   "metadata": {},
   "outputs": [
    {
     "name": "stdout",
     "output_type": "stream",
     "text": [
      "Please enter a string.Dadar\n",
      "radaD\n"
     ]
    }
   ],
   "source": [
    "#Character reverser\n",
    "\n",
    "user_string = input(\"Please enter a string.\")\n",
    "reversed = \"\"\n",
    " \n",
    "for item in range(len(user_string) - 1, -1, -1):\n",
    "    reversed += user_string[item]\n",
    " \n",
    "print(reversed)"
   ]
  },
  {
   "cell_type": "code",
   "execution_count": 139,
   "metadata": {},
   "outputs": [
    {
     "name": "stdout",
     "output_type": "stream",
     "text": [
      "['Anyway', 'like', 'I', 'was', 'sayin', 'shrimp', 'is', 'the', 'fruit', 'of', 'the', 'sea', 'You', 'can', 'barbecue', 'it', 'boil', 'it', 'broil', 'it', 'bake', 'it', 'saute', 'it', 'Deys', 'uh', 'shrimp-kabobs', 'shrimp', 'creole', 'shrimp', 'gumbo', 'Pan', 'fried', 'deep', 'fried', 'stir-fried', 'Theres', 'pineapple', 'shrimp', 'lemon', 'shrimp', 'coconut', 'shrimp', 'pepper', 'shrimp', 'shrimp', 'soup', 'shrimp', 'stew', 'shrimp', 'salad', 'shrimp', 'and', 'potatoes', 'shrimp', 'burger', 'shrimp', 'sandwich', 'That-', 'thats', 'about', 'it']\n",
      "62\n"
     ]
    }
   ],
   "source": [
    "#Word counter\n",
    "\n",
    "str_1 = \"Anyway, like I was sayin', shrimp is the fruit of the sea. You can barbecue it, boil it, broil it, bake it, \\\n",
    "saute it. Dey's uh, shrimp-kabobs, shrimp creole, shrimp gumbo. Pan fried, deep fried, stir-fried. There's pineapple \\\n",
    "shrimp, lemon shrimp, coconut shrimp, pepper shrimp, shrimp soup, shrimp stew, shrimp salad, shrimp and potatoes, \\\n",
    "shrimp burger, shrimp sandwich. That- that's about it.\"\n",
    " \n",
    "spaces_and_letters = \"\"\n",
    " \n",
    "# this for loop reduces the string to letters, numbers, and spaces\n",
    "for char in str_1:\n",
    "    if char.isalnum() or char.isspace() or char == \"-\":\n",
    "        spaces_and_letters += char   #Anyway like I was sayin shrimp is the fruit of the sea you can \n",
    " \n",
    "words = spaces_and_letters.split()\n",
    "number_of_words = len(words)\n",
    " \n",
    "print(words)\n",
    "print(number_of_words)\n"
   ]
  },
  {
   "cell_type": "code",
   "execution_count": 140,
   "metadata": {},
   "outputs": [
    {
     "name": "stdout",
     "output_type": "stream",
     "text": [
      "What is the Job Applicant's name?Joe Biden\n",
      "What did they major in at college?Law\n",
      "What is their current occupationPresident\n",
      "How many years have they been working in their field?30+\n",
      "Joe Biden majored in Law, works as a President and has 30+ years of experience.\n"
     ]
    }
   ],
   "source": [
    "#format\n",
    "\n",
    "name = input(\"What is the Job Applicant's name?\")\n",
    "degree = input(\"What did they major in at college?\")\n",
    "job = input(\"What is their current occupation\")\n",
    "experience = input(\"How many years have they been working in their field?\")\n",
    "\n",
    "print(name + \" majored in \" + degree + \", works as a \" + job + \" and has \" + experience + \" years of experience.\")"
   ]
  },
  {
   "cell_type": "code",
   "execution_count": 141,
   "metadata": {},
   "outputs": [
    {
     "name": "stdout",
     "output_type": "stream",
     "text": [
      "Joe Biden majored in Law, works as a President and has 30+ years of experience.\n"
     ]
    }
   ],
   "source": [
    "print(\"{} majored in {}, works as a {} and has {} years of experience.\".format(name,degree,job,experience))"
   ]
  }
 ],
 "metadata": {
  "kernelspec": {
   "display_name": "Python 3",
   "language": "python",
   "name": "python3"
  },
  "language_info": {
   "codemirror_mode": {
    "name": "ipython",
    "version": 3
   },
   "file_extension": ".py",
   "mimetype": "text/x-python",
   "name": "python",
   "nbconvert_exporter": "python",
   "pygments_lexer": "ipython3",
   "version": "3.6.5"
  }
 },
 "nbformat": 4,
 "nbformat_minor": 2
}
